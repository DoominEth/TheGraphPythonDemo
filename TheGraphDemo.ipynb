{
 "cells": [
  {
   "cell_type": "markdown",
   "id": "5825d05c-2b7b-420b-9cbe-13f9b9f38193",
   "metadata": {
    "tags": []
   },
   "source": [
    "# The Graph Query"
   ]
  },
  {
   "cell_type": "code",
   "execution_count": 1,
   "id": "762b9fe4-eda7-445a-86fe-ccdffe1c5f3e",
   "metadata": {
    "tags": []
   },
   "outputs": [],
   "source": [
    "import requests\n",
    "from dotenv import load_dotenv\n",
    "import os\n",
    "from pprint import pprint"
   ]
  },
  {
   "cell_type": "code",
   "execution_count": 2,
   "id": "a2b2ddd5-4481-489f-bf9f-fe7efe86cb99",
   "metadata": {},
   "outputs": [],
   "source": [
    "# function to use requests.post to make an API call to the subgraph url\n",
    "def run_query(q):\n",
    "    request = requests.post(f'https://gateway.thegraph.com/api/{os.getenv(\"THE_GRAPH_API_KEY\")}/subgraphs/id/4yx4rR6Kf8WH4RJPGhLSHojUxJzRWgEZb51iTran1sEG'\n",
    "                            '',\n",
    "                            json={'query': query})\n",
    "    \n",
    "    if request.status_code == 200:\n",
    "        return request.json()\n",
    "    else:\n",
    "        raise Exception('Query failed. return code is {}.      {}'.format(request.status_code, query))"
   ]
  },
  {
   "cell_type": "code",
   "execution_count": 3,
   "id": "52de0169-8047-4f5a-a01f-0d5e7cc0ee8c",
   "metadata": {},
   "outputs": [],
   "source": [
    "# The Graph query - Curve\n",
    "query = \"\"\"\n",
    "\n",
    "{\n",
    "  systemStates(first: 5) {\n",
    "    id\n",
    "    registryContract\n",
    "    contractCount\n",
    "    gaugeCount\n",
    "  }\n",
    "  accounts(first: 5) {\n",
    "    id\n",
    "    address\n",
    "    gauges {\n",
    "      id\n",
    "    }\n",
    "    gaugeWeightVotes {\n",
    "      id\n",
    "    }\n",
    "  }\n",
    "}\n",
    "\"\"\"\n",
    "result = run_query(query)\n"
   ]
  },
  {
   "cell_type": "code",
   "execution_count": 4,
   "id": "30d37b6f-df4a-4b23-a0e2-e0de049a05d4",
   "metadata": {},
   "outputs": [
    {
     "name": "stdout",
     "output_type": "stream",
     "text": [
      "{'data': {'accounts': [{'address': '0x0000000000002d534ff79e9c69e7fcc742f0be83',\n",
      "                        'gaugeWeightVotes': [],\n",
      "                        'gauges': [],\n",
      "                        'id': '0x0000000000002d534ff79e9c69e7fcc742f0be83'},\n",
      "                       {'address': '0x0000000000007f150bd6f54c40a34d7c3d5e9f56',\n",
      "                        'gaugeWeightVotes': [],\n",
      "                        'gauges': [],\n",
      "                        'id': '0x0000000000007f150bd6f54c40a34d7c3d5e9f56'},\n",
      "                       {'address': '0x0000000000008422676eb92fd1807c6271d3cd0a',\n",
      "                        'gaugeWeightVotes': [],\n",
      "                        'gauges': [],\n",
      "                        'id': '0x0000000000008422676eb92fd1807c6271d3cd0a'},\n",
      "                       {'address': '0x000000000000abe945c436595ce765a8a261317b',\n",
      "                        'gaugeWeightVotes': [],\n",
      "                        'gauges': [],\n",
      "                        'id': '0x000000000000abe945c436595ce765a8a261317b'},\n",
      "                       {'address': '0x00000000000123685885532dcb685c442dc83126',\n",
      "                        'gaugeWeightVotes': [],\n",
      "                        'gauges': [],\n",
      "                        'id': '0x00000000000123685885532dcb685c442dc83126'}],\n",
      "          'systemStates': [{'contractCount': '7',\n",
      "                            'gaugeCount': '177',\n",
      "                            'id': 'current',\n",
      "                            'registryContract': '0x90e00ace148ca3b23ac1bc8c240c2a7dd9c2d7f5'}]}}\n"
     ]
    }
   ],
   "source": [
    "pprint(result)"
   ]
  },
  {
   "cell_type": "markdown",
   "id": "8cce6295-15c4-4a80-9937-c1f1e73dcc31",
   "metadata": {
    "tags": []
   },
   "source": [
    "# Moving Query data into Pandas"
   ]
  },
  {
   "cell_type": "code",
   "execution_count": 5,
   "id": "8055f13f-4008-4bb6-b64f-50c82fcbba84",
   "metadata": {},
   "outputs": [],
   "source": [
    "import pandas as pd"
   ]
  },
  {
   "cell_type": "code",
   "execution_count": 6,
   "id": "d3d76d0e-4663-4137-83e5-e8e088aa824a",
   "metadata": {},
   "outputs": [],
   "source": [
    "df = pd.DataFrame(columns=[\"id\",\"address\",\"gauges\", \"gaugeWeightVotes\",])"
   ]
  },
  {
   "cell_type": "code",
   "execution_count": 7,
   "id": "2f0b1b8a-b437-4724-9557-157dd4b476c2",
   "metadata": {},
   "outputs": [
    {
     "data": {
      "text/plain": [
       "dict_keys(['data'])"
      ]
     },
     "execution_count": 7,
     "metadata": {},
     "output_type": "execute_result"
    }
   ],
   "source": [
    "result.keys()"
   ]
  },
  {
   "cell_type": "code",
   "execution_count": 8,
   "id": "cd6c5117-f9ed-4fdf-8008-393f6bb118c9",
   "metadata": {},
   "outputs": [],
   "source": [
    "accounts = result['data']['accounts']"
   ]
  },
  {
   "cell_type": "code",
   "execution_count": 9,
   "id": "6c1e2c30-d2fa-4e5f-8c0f-1829e2c02f33",
   "metadata": {},
   "outputs": [],
   "source": [
    "for i in range(0, len(accounts)):\n",
    "    df.loc[i] = [accounts[i]['id'], accounts[i]['address'], accounts[i]['gauges'], accounts[i]['gaugeWeightVotes'] ]\n",
    "    "
   ]
  },
  {
   "cell_type": "code",
   "execution_count": 10,
   "id": "676ae683-058c-4d83-811d-9e2674221357",
   "metadata": {},
   "outputs": [
    {
     "data": {
      "text/plain": [
       "[{'id': '0x0000000000002d534ff79e9c69e7fcc742f0be83',\n",
       "  'address': '0x0000000000002d534ff79e9c69e7fcc742f0be83',\n",
       "  'gauges': [],\n",
       "  'gaugeWeightVotes': []},\n",
       " {'id': '0x0000000000007f150bd6f54c40a34d7c3d5e9f56',\n",
       "  'address': '0x0000000000007f150bd6f54c40a34d7c3d5e9f56',\n",
       "  'gauges': [],\n",
       "  'gaugeWeightVotes': []},\n",
       " {'id': '0x0000000000008422676eb92fd1807c6271d3cd0a',\n",
       "  'address': '0x0000000000008422676eb92fd1807c6271d3cd0a',\n",
       "  'gauges': [],\n",
       "  'gaugeWeightVotes': []},\n",
       " {'id': '0x000000000000abe945c436595ce765a8a261317b',\n",
       "  'address': '0x000000000000abe945c436595ce765a8a261317b',\n",
       "  'gauges': [],\n",
       "  'gaugeWeightVotes': []},\n",
       " {'id': '0x00000000000123685885532dcb685c442dc83126',\n",
       "  'address': '0x00000000000123685885532dcb685c442dc83126',\n",
       "  'gauges': [],\n",
       "  'gaugeWeightVotes': []}]"
      ]
     },
     "execution_count": 10,
     "metadata": {},
     "output_type": "execute_result"
    }
   ],
   "source": [
    "accounts"
   ]
  },
  {
   "cell_type": "code",
   "execution_count": 11,
   "id": "86e10da2-b6e9-44cb-9156-f70e2e78495f",
   "metadata": {},
   "outputs": [
    {
     "data": {
      "text/html": [
       "<div>\n",
       "<style scoped>\n",
       "    .dataframe tbody tr th:only-of-type {\n",
       "        vertical-align: middle;\n",
       "    }\n",
       "\n",
       "    .dataframe tbody tr th {\n",
       "        vertical-align: top;\n",
       "    }\n",
       "\n",
       "    .dataframe thead th {\n",
       "        text-align: right;\n",
       "    }\n",
       "</style>\n",
       "<table border=\"1\" class=\"dataframe\">\n",
       "  <thead>\n",
       "    <tr style=\"text-align: right;\">\n",
       "      <th></th>\n",
       "      <th>id</th>\n",
       "      <th>address</th>\n",
       "      <th>gauges</th>\n",
       "      <th>gaugeWeightVotes</th>\n",
       "    </tr>\n",
       "  </thead>\n",
       "  <tbody>\n",
       "    <tr>\n",
       "      <th>0</th>\n",
       "      <td>0x0000000000002d534ff79e9c69e7fcc742f0be83</td>\n",
       "      <td>0x0000000000002d534ff79e9c69e7fcc742f0be83</td>\n",
       "      <td>[]</td>\n",
       "      <td>[]</td>\n",
       "    </tr>\n",
       "    <tr>\n",
       "      <th>1</th>\n",
       "      <td>0x0000000000007f150bd6f54c40a34d7c3d5e9f56</td>\n",
       "      <td>0x0000000000007f150bd6f54c40a34d7c3d5e9f56</td>\n",
       "      <td>[]</td>\n",
       "      <td>[]</td>\n",
       "    </tr>\n",
       "    <tr>\n",
       "      <th>2</th>\n",
       "      <td>0x0000000000008422676eb92fd1807c6271d3cd0a</td>\n",
       "      <td>0x0000000000008422676eb92fd1807c6271d3cd0a</td>\n",
       "      <td>[]</td>\n",
       "      <td>[]</td>\n",
       "    </tr>\n",
       "    <tr>\n",
       "      <th>3</th>\n",
       "      <td>0x000000000000abe945c436595ce765a8a261317b</td>\n",
       "      <td>0x000000000000abe945c436595ce765a8a261317b</td>\n",
       "      <td>[]</td>\n",
       "      <td>[]</td>\n",
       "    </tr>\n",
       "    <tr>\n",
       "      <th>4</th>\n",
       "      <td>0x00000000000123685885532dcb685c442dc83126</td>\n",
       "      <td>0x00000000000123685885532dcb685c442dc83126</td>\n",
       "      <td>[]</td>\n",
       "      <td>[]</td>\n",
       "    </tr>\n",
       "  </tbody>\n",
       "</table>\n",
       "</div>"
      ],
      "text/plain": [
       "                                           id  \\\n",
       "0  0x0000000000002d534ff79e9c69e7fcc742f0be83   \n",
       "1  0x0000000000007f150bd6f54c40a34d7c3d5e9f56   \n",
       "2  0x0000000000008422676eb92fd1807c6271d3cd0a   \n",
       "3  0x000000000000abe945c436595ce765a8a261317b   \n",
       "4  0x00000000000123685885532dcb685c442dc83126   \n",
       "\n",
       "                                      address gauges gaugeWeightVotes  \n",
       "0  0x0000000000002d534ff79e9c69e7fcc742f0be83     []               []  \n",
       "1  0x0000000000007f150bd6f54c40a34d7c3d5e9f56     []               []  \n",
       "2  0x0000000000008422676eb92fd1807c6271d3cd0a     []               []  \n",
       "3  0x000000000000abe945c436595ce765a8a261317b     []               []  \n",
       "4  0x00000000000123685885532dcb685c442dc83126     []               []  "
      ]
     },
     "execution_count": 11,
     "metadata": {},
     "output_type": "execute_result"
    }
   ],
   "source": [
    "df"
   ]
  },
  {
   "cell_type": "code",
   "execution_count": null,
   "id": "b42af530-309c-4178-8967-db7d1d69c462",
   "metadata": {},
   "outputs": [],
   "source": []
  }
 ],
 "metadata": {
  "kernelspec": {
   "display_name": "Python 3 (ipykernel)",
   "language": "python",
   "name": "python3"
  },
  "language_info": {
   "codemirror_mode": {
    "name": "ipython",
    "version": 3
   },
   "file_extension": ".py",
   "mimetype": "text/x-python",
   "name": "python",
   "nbconvert_exporter": "python",
   "pygments_lexer": "ipython3",
   "version": "3.10.5"
  }
 },
 "nbformat": 4,
 "nbformat_minor": 5
}
